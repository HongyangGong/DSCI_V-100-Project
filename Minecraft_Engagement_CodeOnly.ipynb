{
 "cells": [
  {
   "cell_type": "code",
   "execution_count": null,
   "id": "364292ba",
   "metadata": {},
   "outputs": [],
   "source": [
    "\n",
    "library(tidyverse)\n",
    "\n",
    "players <- read_csv(\"players.csv\")\n",
    "sessions <- read_csv(\"sessions.csv\")\n",
    "\n",
    "sessions <- sessions %>%\n",
    "  mutate(start = lubridate::dmy_hm(start_time),\n",
    "         end = lubridate::dmy_hm(end_time),\n",
    "         duration = as.numeric(difftime(end, start, units = \"mins\")))\n",
    "\n",
    "usage <- sessions %>%\n",
    "  group_by(hashedEmail) %>%\n",
    "  summarise(total_minutes = sum(duration, na.rm = TRUE), .groups = \"drop\")\n",
    "\n",
    "df <- players %>%\n",
    "  left_join(usage, by = \"hashedEmail\") %>%\n",
    "  mutate(total_minutes = replace_na(total_minutes, 0),\n",
    "         subscribe = as.numeric(subscribe)) %>%\n",
    "  filter(!is.na(Age))\n"
   ]
  },
  {
   "cell_type": "code",
   "execution_count": null,
   "id": "17595801",
   "metadata": {},
   "outputs": [],
   "source": [
    "\n",
    "ggplot(df, aes(x = experience, y = total_minutes, fill = experience)) +\n",
    "  geom_boxplot() +\n",
    "  labs(title = \"Figure 1: Experience vs Total Play Time (mins)\") +\n",
    "  theme_minimal()\n"
   ]
  },
  {
   "cell_type": "code",
   "execution_count": null,
   "id": "ee37b72a",
   "metadata": {},
   "outputs": [],
   "source": [
    "\n",
    "ggplot(df, aes(x = Age, y = total_minutes)) +\n",
    "  geom_point() +\n",
    "  geom_smooth(method = \"lm\") +\n",
    "  labs(title = \"Figure 2: Age vs Total Play Time (mins)\") +\n",
    "  theme_minimal()\n"
   ]
  },
  {
   "cell_type": "code",
   "execution_count": null,
   "id": "cf1e3878",
   "metadata": {},
   "outputs": [],
   "source": [
    "\n",
    "model <- lm(total_minutes ~ Age + subscribe + played_hours, data = df)\n",
    "summary(model)\n"
   ]
  }
 ],
 "metadata": {},
 "nbformat": 4,
 "nbformat_minor": 5
}
