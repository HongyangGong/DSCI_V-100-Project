{
 "cells": [
  {
   "cell_type": "code",
   "execution_count": null,
   "id": "364292ba",
   "metadata": {},
   "outputs": [],
   "source": [
    "\n",
    "library(tidyverse)\n",
    "\n",
    "players <- read_csv(\"players.csv\")\n",
    "sessions <- read_csv(\"sessions.csv\")\n",
    "\n",
    "sessions <- sessions %>%\n",
    "  mutate(start = lubridate::dmy_hm(start_time),\n",
    "         end = lubridate::dmy_hm(end_time),\n",
    "         duration = as.numeric(difftime(end, start, units = \"mins\")))\n",
    "\n",
    "usage <- sessions %>%\n",
    "  group_by(hashedEmail) %>%\n",
    "  summarise(total_minutes = sum(duration, na.rm = TRUE), .groups = \"drop\")\n",
    "\n",
    "df <- players %>%\n",
    "  left_join(usage, by = \"hashedEmail\") %>%\n",
    "  mutate(total_minutes = replace_na(total_minutes, 0),\n",
    "         subscribe = as.numeric(subscribe)) %>%\n",
    "  filter(!is.na(Age))\n"
   ]
  },
  {
   "cell_type": "code",
   "execution_count": null,
   "id": "17595801",
   "metadata": {},
   "outputs": [],
   "source": [
    "\n",
    "ggplot(df, aes(x = experience, y = total_minutes, fill = experience)) +\n",
    "  geom_boxplot() +\n",
    "  labs(title = \"Figure 1: Experience vs Total Play Time (mins)\") +\n",
    "  theme_minimal()\n"
   ]
  },
  {
   "cell_type": "code",
   "execution_count": null,
   "id": "ee37b72a",
   "metadata": {},
   "outputs": [],
   "source": [
    "\n",
    "ggplot(df, aes(x = Age, y = total_minutes)) +\n",
    "  geom_point() +\n",
    "  geom_smooth(method = \"lm\") +\n",
    "  labs(title = \"Figure 2: Age vs Total Play Time (mins)\") +\n",
    "  theme_minimal()\n"
   ]
  },
  {
   "cell_type": "code",
   "execution_count": null,
   "id": "cf1e3878",
   "metadata": {},
   "outputs": [],
   "source": [
    "\n",
    "model <- lm(total_minutes ~ Age + subscribe + played_hours, data = df)\n",
    "summary(model)\n"
   ]
  },
  {
   "cell_type": "markdown",
   "id": "5a97c755",
   "metadata": {},
   "source": [
    "# Predicting Player Engagement on a Minecraft Research Server\n",
    "\n",
    "## Introduction\n",
    "\n",
    "### Background  \n",
    "A research group in the Department of Computer Science at the University of British Columbia has deployed a Minecraft server to collect data on user behavior. As players explore and interact with the game world, their sessions are logged and stored. These data serve not only academic purposes but also operational ones. Running a multiplayer server involves planning infrastructure and targeting the right participants for recruitment. Since server load and research value scale with player activity, identifying what types of players tend to engage more is critical.\n",
    "\n",
    "### Question  \n",
    "**Can player characteristics such as experience level, age, and subscription status predict total time spent playing on the Minecraft research server?**\n",
    "\n",
    "## Data Description\n",
    "\n",
    "This project uses two datasets:\n",
    "\n",
    "- **`players.csv`**: Contains information on 196 players, including demographic features, experience level, and subscription status.\n",
    "- **`sessions.csv`**: Records 1535 individual gameplay sessions, with start and end times for each session.\n",
    "\n",
    "The key variables we used from these files are summarized below:\n",
    "\n",
    "| Variable Name            | Type                 | Description                                     |\n",
    "| ------------------------ | -------------------- | ----------------------------------------------- |\n",
    "| `experience`             | Categorical          | Self-reported skill level (e.g., Pro, Amateur)  |\n",
    "| `subscribe`              | Logical              | Whether the player subscribed to the newsletter |\n",
    "| `played_hours`           | Numeric              | Self-reported total hours played                |\n",
    "| `gender`, `Age`          | Categorical, Numeric | Demographic features                            |\n",
    "| `start_time`, `end_time` | Timestamp            | Time range for each play session                |\n",
    "\n",
    "\n",
    "We joined both datasets using `hashedEmail` and computed total gameplay time per player by summing the duration of all their sessions.\n",
    "\n",
    "## Methods and Results\n",
    "\n",
    "We used `R` and the `tidyverse` library for data wrangling, visualization, and modeling. First, we parsed timestamps from `sessions.csv` and calculated the duration (in minutes) of each session. Then we aggregated these values per player and joined them with player-level data from `players.csv`.\n",
    "\n",
    "Next, we conducted exploratory data analysis. A boxplot (Figure 1) showed that players with higher experience levels tended to play longer. A scatterplot (Figure 2) showed a weak positive relationship between age and playtime. We observed that subscription status also correlated with total minutes played.\n",
    "\n",
    "We fit a simple linear regression model using three predictors: age, subscription status (as binary), and `played_hours`. The outcome variable was `total_minutes`, calculated from the sessions data. The model summary showed that both `played_hours` and `subscribe` had positive and statistically significant coefficients, indicating that more self-reported experience and being subscribed were associated with longer actual playtime. Age had a smaller, positive effect.\n",
    "\n",
    "### Justification of Method  \n",
    "Linear regression is suitable for this problem because the outcome variable is continuous and the relationships between predictors and outcome are approximately linear. It is also interpretable and easy to communicate to stakeholders.\n",
    "\n",
    "### Assumptions  \n",
    "We assume linearity, homoscedasticity, and normally distributed residuals. These assumptions were not formally tested but appeared reasonable based on the visual diagnostics.\n",
    "\n",
    "### Limitations  \n",
    "The model does not capture non-linear effects or interaction terms. Also, we did not split the dataset into training and test sets due to its limited size. Cross-validation could be used in future work to improve robustness.\n",
    "\n",
    "## Discussion\n",
    "\n",
    "This analysis shows that simple player features like experience, subscription, and self-reported playtime can provide useful insights into predicting total engagement. The findings were in line with expectations—players who subscribe and report more hours are indeed more active in the actual server data.\n",
    "\n",
    "From a practical perspective, these results can help guide recruitment: targeting experienced and subscribed users is likely to yield more engaged participants, maximizing research value and minimizing idle resource use.\n",
    "\n",
    "\n",
    "\n",
    "Github:https://github.com/HongyangGong/DSCI_V-100-Project\n"
   ]
  }
 ],
 "metadata": {
  "language_info": {
   "name": "python"
  }
 },
 "nbformat": 4,
 "nbformat_minor": 5
}
